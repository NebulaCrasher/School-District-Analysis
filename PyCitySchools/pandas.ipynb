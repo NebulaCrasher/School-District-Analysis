{
 "cells": [
  {
   "cell_type": "code",
   "execution_count": 1,
   "metadata": {},
   "outputs": [],
   "source": [
    "import pandas as pd\n",
    "school_datapath = \"Resources/schools_complete.csv\"\n",
    "student_datapath= \"Resources/students_complete.csv\"\n",
    "\n",
    "school_data = pd.read_csv(school_datapath)\n",
    "student_data = pd.read_csv(student_datapath)\n",
    "\n",
    "complete_school_data = pd.merge(student_data,school_data, how=\"left\", on = [\"school_name\"])"
   ]
  },
  {
   "cell_type": "code",
   "execution_count": 47,
   "metadata": {},
   "outputs": [],
   "source": [
    "series_names = {}\n",
    "\n",
    "series_names[\"total_schools\"] = len(complete_school_data[\"school_name\"].unique())\n",
    "series_names[\"total_students\"] = \"{:,.0f}\".format(len(complete_school_data[\"Student ID\"].value_counts()))\n",
    "series_names[\"total_budget\"] = \"${:,.2f}\".format(school_data[\"budget\"].sum())\n",
    "series_names[\"average_math_score\"] = complete_school_data[\"math_score\"].mean()\n",
    "series_names[\"average_reading_score\"] = complete_school_data[\"reading_score\"].mean()\n",
    "\n",
    "# complete_school_data.head()\n",
    "\n",
    "\n",
    "\n",
    "\n",
    "\n"
   ]
  }
 ],
 "metadata": {
  "kernelspec": {
   "display_name": "Python 3.8.13 ('PythonData38')",
   "language": "python",
   "name": "python3"
  },
  "language_info": {
   "codemirror_mode": {
    "name": "ipython",
    "version": 3
   },
   "file_extension": ".py",
   "mimetype": "text/x-python",
   "name": "python",
   "nbconvert_exporter": "python",
   "pygments_lexer": "ipython3",
   "version": "3.8.13"
  },
  "orig_nbformat": 4,
  "vscode": {
   "interpreter": {
    "hash": "23d1e4805d2de03fc649bab6e2e80d96d2dc4ec47b4d8a930226d29b30b31090"
   }
  }
 },
 "nbformat": 4,
 "nbformat_minor": 2
}
